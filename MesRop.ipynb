{
  "nbformat": 4,
  "nbformat_minor": 0,
  "metadata": {
    "colab": {
      "provenance": [],
      "gpuType": "T4"
    },
    "kernelspec": {
      "name": "python3",
      "display_name": "Python 3"
    },
    "language_info": {
      "name": "python"
    },
    "accelerator": "GPU"
  },
  "cells": [
    {
      "cell_type": "markdown",
      "source": [
        "Here we do imports"
      ],
      "metadata": {
        "id": "Esu8RvcSSfvC"
      }
    },
    {
      "cell_type": "code",
      "execution_count": null,
      "metadata": {
        "id": "6uaEV14jR41h"
      },
      "outputs": [],
      "source": [
        "import tensorflow as tf\n",
        "from tensorflow import keras\n",
        "from tensorflow.keras import layers         #for model\n",
        "\n",
        "import numpy as np                         #for numpy arrays\n",
        "\n",
        "import matplotlib.pyplot as plt            #for visualizing\n",
        "\n",
        "import zipfile\n",
        "import os\n",
        "import cv2\n",
        "from sklearn.model_selection import train_test_split\n",
        "#from sklearn.preprocessing import LabelEncoder\n",
        "from google.colab import files\n",
        "                   # for data"
      ]
    },
    {
      "cell_type": "markdown",
      "source": [
        "Now we must download the data called \"Mashtoc\""
      ],
      "metadata": {
        "id": "RVrqPHhTSmE8"
      }
    },
    {
      "cell_type": "code",
      "source": [
        "from google.colab import drive\n",
        "drive.mount('/content/drive')"
      ],
      "metadata": {
        "colab": {
          "base_uri": "https://localhost:8080/"
        },
        "id": "mbbWY0jaSuoz",
        "outputId": "5b77515d-d7e5-49b9-aa76-af95649c249f"
      },
      "execution_count": null,
      "outputs": [
        {
          "output_type": "stream",
          "name": "stdout",
          "text": [
            "Mounted at /content/drive\n"
          ]
        }
      ]
    },
    {
      "cell_type": "code",
      "source": [
        "zip_path = \"/content/drive/My Drive/mashtots-dataset-v2.zip\"\n",
        "extract_path = \"/content/mashtots_dataset\"\n",
        "\n",
        "with zipfile.ZipFile(zip_path, \"r\") as zip_ref:\n",
        "    zip_ref.extractall(extract_path)\n",
        "\n",
        "print(\"archive extracted in:\", extract_path)"
      ],
      "metadata": {
        "colab": {
          "base_uri": "https://localhost:8080/"
        },
        "id": "2SOVGWmASwqw",
        "outputId": "f753c159-8da5-42c4-d716-183ee753ed68"
      },
      "execution_count": null,
      "outputs": [
        {
          "output_type": "stream",
          "name": "stdout",
          "text": [
            "archive extracted in: /content/mashtots_dataset\n"
          ]
        }
      ]
    },
    {
      "cell_type": "code",
      "source": [
        "file_list = os.listdir(extract_path)\n",
        "print(file_list[:10])"
      ],
      "metadata": {
        "colab": {
          "base_uri": "https://localhost:8080/"
        },
        "id": "emgkOqGbSydM",
        "outputId": "1ebe7002-8f22-4013-aa5b-b4352380e1c6"
      },
      "execution_count": null,
      "outputs": [
        {
          "output_type": "stream",
          "name": "stdout",
          "text": [
            "['sample_submission.csv', 'Train', 'new_test']\n"
          ]
        }
      ]
    },
    {
      "cell_type": "code",
      "source": [
        "label_dict1 = {\n",
        "    0: \"Ա\", 1: \"Բ\", 2: \"Գ\", 3: \"Դ\", 4: \"Ե\", 5: \"Զ\", 6: \"Է\", 7: \"Ը\", 8: \"Թ\", 9: \"Ժ\",\n",
        "    10: \"Ի\", 11: \"Լ\", 12: \"Խ\", 13: \"Ծ\", 14: \"Կ\", 15: \"Հ\", 16: \"Ձ\", 17: \"Ղ\", 18: \"Ճ\", 19: \"Մ\",\n",
        "    20: \"Յ\", 21: \"Ն\", 22: \"Շ\", 23: \"Ո\", 24: \"ՈՒ\", 25: \"Չ\", 26: \"Պ\", 27: \"Ջ\", 28: \"Ռ\", 29: \"Ս\",\n",
        "    30: \"Վ\", 31: \"Տ\", 32: \"Ր\", 33: \"Ց\", 34: \"Փ\", 35: \"Ք\", 36: \"և\", 37: \"Օ\", 38: \"Ֆ\",\n",
        "    39: \"ա\", 40: \"բ\", 41: \"գ\", 42: \"դ\", 43: \"ե\", 44: \"զ\", 45: \"է\", 46: \"ը\", 47: \"թ\", 48: \"ժ\",\n",
        "    49: \"ի\", 50: \"լ\", 51: \"խ\", 52: \"ծ\", 53: \"կ\", 54: \"հ\", 55: \"ձ\", 56: \"ղ\", 57: \"ճ\", 58: \"մ\",\n",
        "    59: \"յ\", 60: \"ն\", 61: \"շ\", 62: \"ո\", 63: \"ու\", 64: \"չ\", 65: \"պ\", 66: \"ջ\", 67: \"ռ\", 68: \"ս\",\n",
        "    69: \"վ\", 70: \"տ\", 71: \"ր\", 72: \"ց\", 73: \"փ\", 74: \"ք\", 75: \"և\", 76: \"օ\", 77: \"ֆ\"\n",
        "}\n"
      ],
      "metadata": {
        "id": "dJPyc4PAeyYL"
      },
      "execution_count": null,
      "outputs": []
    },
    {
      "cell_type": "markdown",
      "source": [
        "that is example of Armenian handwriting"
      ],
      "metadata": {
        "id": "KzO6MuOcS4eZ"
      }
    },
    {
      "cell_type": "code",
      "source": [
        "img_path = \"/content/mashtots_dataset/Train/Train/39/1.png\"\n",
        "\n",
        "img = cv2.imread(img_path, cv2.IMREAD_GRAYSCALE)\n",
        "\n",
        "plt.imshow(img, cmap='gray')\n",
        "plt.axis(\"off\")\n",
        "plt.show()"
      ],
      "metadata": {
        "colab": {
          "base_uri": "https://localhost:8080/",
          "height": 406
        },
        "id": "zO9NrwyoS01A",
        "outputId": "c465d653-0455-451b-8786-208f5f9508d9"
      },
      "execution_count": null,
      "outputs": [
        {
          "output_type": "display_data",
          "data": {
            "text/plain": [
              "<Figure size 640x480 with 1 Axes>"
            ],
            "image/png": "[encoded data removed]"
          },
          "metadata": {}
        }
      ]
    },
    {
      "cell_type": "markdown",
      "source": [],
      "metadata": {
        "id": "DnHnkKNoU_VH"
      }
    },
    {
      "cell_type": "markdown",
      "source": [
        "Here we will separate mashtoc data, becouse we wanna get train dataset and test dataset, with labels"
      ],
      "metadata": {
        "id": "D2xkv3mMX9r5"
      }
    },
    {
      "cell_type": "markdown",
      "source": [
        "mtnum enq mer data - i \"Train\" papkan vortex ka 77 hat urish papka, amen papkai mej mot 800 hat nkar: tesnum enq te vor papkai hamary vor tarina hamapatasxan"
      ],
      "metadata": {
        "id": "Dh67hzlXedK8"
      }
    },
    {
      "cell_type": "code",
      "source": [
        "\n",
        "reverse_label_dict = {v: k for k, v in label_dict1.items()}\n",
        "\n",
        "for label_folder in sorted(os.listdir(dataset_path)):\n",
        "    folder_path = os.path.join(dataset_path, label_folder)\n",
        "    if os.path.isdir(folder_path):\n",
        "        try:\n",
        "            folder_num = int(label_folder)\n",
        "            if folder_num in label_dict1:\n",
        "                letter = label_dict1[folder_num]\n",
        "                print(f\"Папка {label_folder} соответствует букве {letter}\")\n",
        "\n",
        "                for img_name in os.listdir(folder_path):\n",
        "                    img_path = os.path.join(folder_path, img_name)\n",
        "                    img = cv2.imread(img_path, cv2.IMREAD_GRAYSCALE)\n",
        "                    if img is not None:\n",
        "                        img = cv2.resize(img, (64, 64))\n",
        "                        X.append(img)\n",
        "                        y.append(folder_num)\n",
        "            else:\n",
        "                print(f\"Предупреждение: Папка {label_folder} не имеет соответствия в label_dict1\")\n",
        "        except ValueError:\n",
        "            print(f\"Предупреждение: Имя папки {label_folder} не является числом\")\n",
        "\n",
        "\n",
        "X = np.array(X)\n",
        "y = np.array(y)"
      ],
      "metadata": {
        "colab": {
          "base_uri": "https://localhost:8080/",
          "height": 1000
        },
        "id": "DxTX9gTRV-ik",
        "outputId": "ed82855a-98bf-44d3-be90-c33f80ad6766"
      },
      "execution_count": null,
      "outputs": [
        {
          "output_type": "stream",
          "name": "stdout",
          "text": [
            "Папка 0 соответствует букве Ա\n",
            "Папка 1 соответствует букве Բ\n",
            "Папка 10 соответствует букве Ի\n",
            "Папка 11 соответствует букве Լ\n",
            "Папка 12 соответствует букве Խ\n",
            "Папка 13 соответствует букве Ծ\n",
            "Папка 14 соответствует букве Կ\n",
            "Папка 15 соответствует букве Հ\n",
            "Папка 16 соответствует букве Ձ\n",
            "Папка 17 соответствует букве Ղ\n",
            "Папка 18 соответствует букве Ճ\n",
            "Папка 19 соответствует букве Մ\n",
            "Папка 2 соответствует букве Գ\n",
            "Папка 20 соответствует букве Յ\n",
            "Папка 21 соответствует букве Ն\n",
            "Папка 22 соответствует букве Շ\n",
            "Папка 23 соответствует букве Ո\n",
            "Папка 24 соответствует букве ՈՒ\n",
            "Папка 25 соответствует букве Չ\n",
            "Папка 26 соответствует букве Պ\n",
            "Папка 27 соответствует букве Ջ\n",
            "Папка 28 соответствует букве Ռ\n",
            "Папка 29 соответствует букве Ս\n",
            "Папка 3 соответствует букве Դ\n",
            "Папка 30 соответствует букве Վ\n",
            "Папка 31 соответствует букве Տ\n",
            "Папка 32 соответствует букве Ր\n",
            "Папка 33 соответствует букве Ց\n",
            "Папка 34 соответствует букве Փ\n",
            "Папка 35 соответствует букве Ք\n",
            "Папка 36 соответствует букве և\n",
            "Папка 37 соответствует букве Օ\n",
            "Папка 38 соответствует букве Ֆ\n",
            "Папка 39 соответствует букве ա\n",
            "Папка 4 соответствует букве Ե\n",
            "Папка 40 соответствует букве բ\n",
            "Папка 41 соответствует букве գ\n",
            "Папка 42 соответствует букве դ\n",
            "Папка 43 соответствует букве ե\n",
            "Папка 44 соответствует букве զ\n",
            "Папка 45 соответствует букве է\n",
            "Папка 46 соответствует букве ը\n",
            "Папка 47 соответствует букве թ\n",
            "Папка 48 соответствует букве ժ\n",
            "Папка 49 соответствует букве ի\n",
            "Папка 5 соответствует букве Զ\n",
            "Папка 50 соответствует букве լ\n",
            "Папка 51 соответствует букве խ\n",
            "Папка 52 соответствует букве ծ\n",
            "Папка 53 соответствует букве կ\n",
            "Папка 54 соответствует букве հ\n",
            "Папка 55 соответствует букве ձ\n",
            "Папка 56 соответствует букве ղ\n",
            "Папка 57 соответствует букве ճ\n",
            "Папка 58 соответствует букве մ\n",
            "Папка 59 соответствует букве յ\n",
            "Папка 6 соответствует букве Է\n",
            "Папка 60 соответствует букве ն\n",
            "Папка 61 соответствует букве շ\n",
            "Папка 62 соответствует букве ո\n",
            "Папка 63 соответствует букве ու\n",
            "Папка 64 соответствует букве չ\n",
            "Папка 65 соответствует букве պ\n",
            "Папка 66 соответствует букве ջ\n",
            "Папка 67 соответствует букве ռ\n",
            "Папка 68 соответствует букве ս\n",
            "Папка 69 соответствует букве վ\n",
            "Папка 7 соответствует букве Ը\n",
            "Папка 70 соответствует букве տ\n",
            "Папка 71 соответствует букве ր\n",
            "Папка 72 соответствует букве ց\n",
            "Папка 73 соответствует букве փ\n",
            "Папка 74 соответствует букве ք\n",
            "Папка 75 соответствует букве և\n",
            "Папка 76 соответствует букве օ\n",
            "Папка 77 соответствует букве ֆ\n",
            "Папка 8 соответствует букве Թ\n",
            "Папка 9 соответствует букве Ժ\n"
          ]
        },
        {
          "output_type": "execute_result",
          "data": {
            "text/plain": [
              "'for label in os.listdir(dataset_path):\\n    label_path = os.path.join(dataset_path, label)\\n    if os.path.isdir(label_path):\\n        for img_name in os.listdir(label_path):\\n            img_path = os.path.join(label_path, img_name)\\n            img = cv2.imread(img_path, cv2.IMREAD_GRAYSCALE)\\n            img = cv2.resize(img, (64, 64))\\n            X.append(img)\\n            y.append(label_dict1[label])\\n\\nX = np.array(X)\\ny = np.array(y)\\n\\n\\nfor label in os.listdir(dataset_path):\\n  label_path = os.path.join(dataset_path, label)\\n  if os.path.isdir(label_path):\\n    for img_name in os.listdir(label_path):\\n      img_path = os.path.join(label_path, img_name)\\n      img = cv2.imread(img_path, cv2.IMREAD_GRAYSCALE)\\n      img = cv2.resize(img, (64, 64))\\n      X.append(img)\\n      y.append(label)\\nX = np.array(X)\\ny = np.array(y)'"
            ],
            "application/vnd.google.colaboratory.intrinsic+json": {
              "type": "string"
            }
          },
          "metadata": {},
          "execution_count": 8
        }
      ]
    },
    {
      "cell_type": "code",
      "source": [
        "print(\"Уникальные метки:\", np.unique(y))"
      ],
      "metadata": {
        "colab": {
          "base_uri": "https://localhost:8080/"
        },
        "id": "qc5L_fmlRUem",
        "outputId": "eba713b6-3888-4a26-91b1-cc01432cfbf6"
      },
      "execution_count": null,
      "outputs": [
        {
          "output_type": "stream",
          "name": "stdout",
          "text": [
            "Уникальные метки: [ 0  1  2  3  4  5  6  7  8  9 10 11 12 13 14 15 16 17 18 19 20 21 22 23\n",
            " 24 25 26 27 28 29 30 31 32 33 34 35 36 37 38 39 40 41 42 43 44 45 46 47\n",
            " 48 49 50 51 52 53 54 55 56 57 58 59 60 61 62 63 64 65 66 67 68 69 70 71\n",
            " 72 73 74 75 76 77]\n"
          ]
        }
      ]
    },
    {
      "cell_type": "code",
      "source": [
        "X = X.reshape(-1, 64, 64, 1) / 255.0"
      ],
      "metadata": {
        "id": "sJ3OoN1lXQlQ"
      },
      "execution_count": null,
      "outputs": []
    },
    {
      "cell_type": "code",
      "source": [
        "X_train, X_test, y_train, y_test = train_test_split(X, y, test_size=0.2, random_state=42)"
      ],
      "metadata": {
        "id": "ZiMG9Mw2XcVs"
      },
      "execution_count": null,
      "outputs": []
    },
    {
      "cell_type": "code",
      "source": [
        "#label_encoder = LabelEncoder()\n",
        "#y_train = label_encoder.fit_transform(y_train)\n",
        "#y_test = label_encoder.transform(y_test)\n",
        "\n",
        "print(y_test[:10])\n",
        "print(y_train[:10])"
      ],
      "metadata": {
        "colab": {
          "base_uri": "https://localhost:8080/"
        },
        "id": "cXVic2yscUAK",
        "outputId": "4ec77ef1-0cb7-4913-8bb0-ae93aeffbaea"
      },
      "execution_count": null,
      "outputs": [
        {
          "output_type": "stream",
          "name": "stdout",
          "text": [
            "[70 22  4 58 55 31 75  0 54 63]\n",
            "[52 47 70 23 51 62 74  7 30 14]\n"
          ]
        }
      ]
    },
    {
      "cell_type": "code",
      "source": [
        "print(X_train.shape)\n",
        "print(X_test.shape)\n",
        "print(y_train.shape)\n",
        "print(y_test.shape)"
      ],
      "metadata": {
        "colab": {
          "base_uri": "https://localhost:8080/"
        },
        "id": "c8DLmMIyXiyx",
        "outputId": "3d0dd713-3057-4962-d151-26b3e4bbf9a8"
      },
      "execution_count": null,
      "outputs": [
        {
          "output_type": "stream",
          "name": "stdout",
          "text": [
            "(56048, 64, 64, 1)\n",
            "(14012, 64, 64, 1)\n",
            "(56048,)\n",
            "(14012,)\n"
          ]
        }
      ]
    },
    {
      "cell_type": "markdown",
      "source": [
        "we've already have preprocesed data, now we need create a model like LeNet"
      ],
      "metadata": {
        "id": "brJ5TJhwYQ28"
      }
    },
    {
      "cell_type": "code",
      "source": [
        "MesRop = keras.Sequential([\n",
        "    layers.Conv2D(32, kernel_size=3, activation=\"relu\", input_shape=(64, 64, 1)),\n",
        "    layers.BatchNormalization(),\n",
        "    layers.MaxPooling2D(pool_size=2, strides=2),\n",
        "    layers.Conv2D(64, kernel_size=3, activation=\"relu\"),\n",
        "    layers.BatchNormalization(),\n",
        "    layers.MaxPooling2D(pool_size=2, strides=2),\n",
        "    layers.Conv2D(128, kernel_size=3, activation=\"relu\"),\n",
        "    layers.BatchNormalization(),\n",
        "    layers.MaxPooling2D(pool_size=2, strides=2),\n",
        "    layers.Flatten(),\n",
        "    layers.Dense(512, activation=\"relu\"),\n",
        "    layers.BatchNormalization(),\n",
        "    layers.Dropout(0.5),\n",
        "    layers.Dense(78, activation=\"softmax\")\n",
        "])"
      ],
      "metadata": {
        "id": "I9UAb00BX7Ud",
        "colab": {
          "base_uri": "https://localhost:8080/"
        },
        "outputId": "45ef38d5-e6e4-4300-9125-917fd9b19c37"
      },
      "execution_count": null,
      "outputs": [
        {
          "output_type": "stream",
          "name": "stderr",
          "text": [
            "/usr/local/lib/python3.11/dist-packages/keras/src/layers/convolutional/base_conv.py:107: UserWarning: Do not pass an `input_shape`/`input_dim` argument to a layer. When using Sequential models, prefer using an `Input(shape)` object as the first layer in the model instead.\n",
            "  super().__init__(activity_regularizer=activity_regularizer, **kwargs)\n"
          ]
        }
      ]
    },
    {
      "cell_type": "code",
      "source": [
        "MesRop.compile(optimizer=\"adam\", loss=\"sparse_categorical_crossentropy\", metrics=[\"accuracy\"])"
      ],
      "metadata": {
        "id": "lt__lu05aQOg"
      },
      "execution_count": null,
      "outputs": []
    },
    {
      "cell_type": "code",
      "source": [
        "MesRop.fit(X_train, y_train, epochs = 10, validation_data=(X_test, y_test))\n",
        "\n",
        "loss, accuracy = MesRop.evaluate(X_test, y_test)\n",
        "print(f\"Test accuracy: {accuracy:.4f}\")"
      ],
      "metadata": {
        "colab": {
          "base_uri": "https://localhost:8080/"
        },
        "id": "UpCyMN_8alLl",
        "outputId": "e28b569e-d777-43ca-9ce6-97b5adff7285"
      },
      "execution_count": null,
      "outputs": [
        {
          "output_type": "stream",
          "name": "stdout",
          "text": [
            "Epoch 1/10\n",
            "\u001b[1m1752/1752\u001b[0m \u001b[32m━━━━━━━━━━━━━━━━━━━━\u001b[0m\u001b[37m\u001b[0m \u001b[1m26s\u001b[0m 10ms/step - accuracy: 0.4973 - loss: 2.0373 - val_accuracy: 0.7124 - val_loss: 0.9918\n",
            "Epoch 2/10\n",
            "\u001b[1m1752/1752\u001b[0m \u001b[32m━━━━━━━━━━━━━━━━━━━━\u001b[0m\u001b[37m\u001b[0m \u001b[1m32s\u001b[0m 8ms/step - accuracy: 0.8556 - loss: 0.4763 - val_accuracy: 0.5562 - val_loss: 2.0552\n",
            "Epoch 3/10\n",
            "\u001b[1m1752/1752\u001b[0m \u001b[32m━━━━━━━━━━━━━━━━━━━━\u001b[0m\u001b[37m\u001b[0m \u001b[1m14s\u001b[0m 8ms/step - accuracy: 0.8914 - loss: 0.3514 - val_accuracy: 0.8980 - val_loss: 0.3880\n",
            "Epoch 4/10\n",
            "\u001b[1m1752/1752\u001b[0m \u001b[32m━━━━━━━━━━━━━━━━━━━━\u001b[0m\u001b[37m\u001b[0m \u001b[1m20s\u001b[0m 7ms/step - accuracy: 0.9138 - loss: 0.2786 - val_accuracy: 0.8903 - val_loss: 0.4173\n",
            "Epoch 5/10\n",
            "\u001b[1m1752/1752\u001b[0m \u001b[32m━━━━━━━━━━━━━━━━━━━━\u001b[0m\u001b[37m\u001b[0m \u001b[1m13s\u001b[0m 7ms/step - accuracy: 0.9257 - loss: 0.2279 - val_accuracy: 0.8718 - val_loss: 0.5095\n",
            "Epoch 6/10\n",
            "\u001b[1m1752/1752\u001b[0m \u001b[32m━━━━━━━━━━━━━━━━━━━━\u001b[0m\u001b[37m\u001b[0m \u001b[1m20s\u001b[0m 7ms/step - accuracy: 0.9376 - loss: 0.1937 - val_accuracy: 0.9099 - val_loss: 0.3138\n",
            "Epoch 7/10\n",
            "\u001b[1m1752/1752\u001b[0m \u001b[32m━━━━━━━━━━━━━━━━━━━━\u001b[0m\u001b[37m\u001b[0m \u001b[1m21s\u001b[0m 7ms/step - accuracy: 0.9481 - loss: 0.1592 - val_accuracy: 0.9035 - val_loss: 0.3349\n",
            "Epoch 8/10\n",
            "\u001b[1m1752/1752\u001b[0m \u001b[32m━━━━━━━━━━━━━━━━━━━━\u001b[0m\u001b[37m\u001b[0m \u001b[1m20s\u001b[0m 7ms/step - accuracy: 0.9525 - loss: 0.1431 - val_accuracy: 0.9236 - val_loss: 0.3245\n",
            "Epoch 9/10\n",
            "\u001b[1m1752/1752\u001b[0m \u001b[32m━━━━━━━━━━━━━━━━━━━━\u001b[0m\u001b[37m\u001b[0m \u001b[1m13s\u001b[0m 7ms/step - accuracy: 0.9584 - loss: 0.1212 - val_accuracy: 0.9044 - val_loss: 0.4063\n",
            "Epoch 10/10\n",
            "\u001b[1m1752/1752\u001b[0m \u001b[32m━━━━━━━━━━━━━━━━━━━━\u001b[0m\u001b[37m\u001b[0m \u001b[1m21s\u001b[0m 8ms/step - accuracy: 0.9605 - loss: 0.1145 - val_accuracy: 0.9201 - val_loss: 0.3042\n",
            "\u001b[1m438/438\u001b[0m \u001b[32m━━━━━━━━━━━━━━━━━━━━\u001b[0m\u001b[37m\u001b[0m \u001b[1m1s\u001b[0m 3ms/step - accuracy: 0.9210 - loss: 0.3025\n",
            "Test accuracy: 0.9201\n"
          ]
        }
      ]
    },
    {
      "cell_type": "code",
      "source": [
        "def predict_image(image):\n",
        "  image = np.expand_dims(image, axis=0)\n",
        "  prediction = MesRop.predict(image, verbose=0)\n",
        "  return np.argmax(prediction)"
      ],
      "metadata": {
        "id": "6FcEWQpQNOEW"
      },
      "execution_count": null,
      "outputs": []
    },
    {
      "cell_type": "code",
      "source": [
        "index = np.random.randint(0, len(X_test))\n",
        "image = X_test[index]\n",
        "print(index)\n",
        "\n",
        "predicted_letter = label_dict1[predict_image(image)]\n",
        "actual_letter = label_dict1[y_test[index]]\n",
        "\n",
        "print(predict_image(image))\n",
        "print(y_test[index])\n",
        "\n",
        "\n",
        "plt.imshow(image.reshape(64, 64), cmap=\"gray\")\n",
        "plt.title(f\"Предсказано: {predicted_letter}, Истинно: {actual_letter}\")\n",
        "plt.show()\n"
      ],
      "metadata": {
        "colab": {
          "base_uri": "https://localhost:8080/",
          "height": 504
        },
        "id": "vJV0YNLlbPdx",
        "outputId": "47889b57-9c32-46e9-a566-6157644c6de0"
      },
      "execution_count": null,
      "outputs": [
        {
          "output_type": "stream",
          "name": "stdout",
          "text": [
            "3270\n",
            "9\n",
            "9\n"
          ]
        },
        {
          "output_type": "display_data",
          "data": {
            "text/plain": [
              "<Figure size 640x480 with 1 Axes>"
            ],
            "image/png": "[encoded data removed]"
          },
          "metadata": {}
        }
      ]
    },
    {
      "cell_type": "code",
      "source": [
        "MesRop.save(\"MesRop_model.h5\")\n",
        "\n",
        "MesRop.save(\"/content/drive/MyDrive/MesRop_model.h5\")\n",
        "\n",
        "np.save(\"/content/drive/MyDrive/X_test.npy\", X_test)\n",
        "np.save(\"/content/drive/MyDrive/y_test.npy\", y_test)"
      ],
      "metadata": {
        "colab": {
          "base_uri": "https://localhost:8080/"
        },
        "id": "lrz19oMGq8NG",
        "outputId": "8a9299fd-6732-4826-f1eb-bde6c30aee6f"
      },
      "execution_count": null,
      "outputs": [
        {
          "output_type": "stream",
          "name": "stderr",
          "text": [
            "WARNING:absl:You are saving your model as an HDF5 file via `model.save()` or `keras.saving.save_model(model)`. This file format is considered legacy. We recommend using instead the native Keras format, e.g. `model.save('my_model.keras')` or `keras.saving.save_model(model, 'my_model.keras')`. \n",
            "WARNING:absl:You are saving your model as an HDF5 file via `model.save()` or `keras.saving.save_model(model)`. This file format is considered legacy. We recommend using instead the native Keras format, e.g. `model.save('my_model.keras')` or `keras.saving.save_model(model, 'my_model.keras')`. \n"
          ]
        }
      ]
    },
    {
      "cell_type": "code",
      "source": [
        "y_pred_probs = MesRop.predict(X_test)  # Get probability distributions\n",
        "y_pred = np.argmax(y_pred_probs, axis=1)  # Convert to class labels\n",
        "\n",
        "from sklearn.metrics import classification_report, confusion_matrix\n",
        "\n",
        "# Compute confusion matrix\n",
        "conf_matrix = confusion_matrix(y_test, y_pred)\n",
        "\n",
        "# Count correctly classified and misclassified samples\n",
        "correctly_classified = np.diag(conf_matrix)  # Diagonal contains correct predictions\n",
        "misclassified = np.sum(conf_matrix, axis=1) - correctly_classified  # Row sum - correct\n",
        "\n",
        "# Generate classification report\n",
        "report = classification_report(y_test, y_pred, digits=4)\n",
        "\n",
        "# Display results\n",
        "print(\"Classification Report:\\n\", report)\n",
        "\n",
        "print(\"\\nPer-Class Correct & Misclassified Samples:\")\n",
        "for i in range(len(correctly_classified)):\n",
        "    print(f\"Class {i}: Correct = {correctly_classified[i]}, Misclassified = {misclassified[i]}\")"
      ],
      "metadata": {
        "colab": {
          "base_uri": "https://localhost:8080/"
        },
        "id": "mzvCT7b1BHW9",
        "outputId": "5e39d646-7dcd-4719-9b1c-d436d1b8bb3c"
      },
      "execution_count": null,
      "outputs": [
        {
          "output_type": "stream",
          "name": "stdout",
          "text": [
            "\u001b[1m438/438\u001b[0m \u001b[32m━━━━━━━━━━━━━━━━━━━━\u001b[0m\u001b[37m\u001b[0m \u001b[1m2s\u001b[0m 4ms/step\n",
            "Classification Report:\n",
            "               precision    recall  f1-score   support\n",
            "\n",
            "           0     0.9600    0.9492    0.9545       177\n",
            "           1     0.9091    0.9574    0.9326       188\n",
            "           2     0.8827    0.9349    0.9080       169\n",
            "           3     0.9509    0.8908    0.9199       174\n",
            "           4     0.9274    0.9595    0.9432       173\n",
            "           5     0.9216    0.9592    0.9400       147\n",
            "           6     0.9108    0.9533    0.9316       150\n",
            "           7     0.9548    0.9250    0.9397       160\n",
            "           8     0.9425    0.9535    0.9480       172\n",
            "           9     0.9253    0.9045    0.9148       178\n",
            "          10     0.8261    0.9620    0.8889       158\n",
            "          11     0.9482    0.9839    0.9657       186\n",
            "          12     0.9722    0.9563    0.9642       183\n",
            "          13     0.9535    0.9820    0.9676       167\n",
            "          14     0.9515    0.9937    0.9721       158\n",
            "          15     0.9461    0.8634    0.9029       183\n",
            "          16     0.7273    0.8840    0.7980       181\n",
            "          17     0.9344    0.9243    0.9293       185\n",
            "          18     0.9553    0.9243    0.9396       185\n",
            "          19     0.9577    0.9784    0.9679       185\n",
            "          20     0.9070    0.9398    0.9231       166\n",
            "          21     0.9758    0.8846    0.9280       182\n",
            "          22     0.9194    0.9848    0.9510       197\n",
            "          23     0.8824    0.9593    0.9192       172\n",
            "          24     0.9412    0.9195    0.9302       174\n",
            "          25     0.9683    0.9734    0.9708       188\n",
            "          26     0.9651    0.9379    0.9513       177\n",
            "          27     0.7836    0.6250    0.6954       168\n",
            "          28     0.9130    0.8547    0.8829       172\n",
            "          29     0.9480    0.9266    0.9371       177\n",
            "          30     0.9538    0.9483    0.9510       174\n",
            "          31     0.9266    0.9535    0.9398       172\n",
            "          32     0.9648    0.8562    0.9073       160\n",
            "          33     0.8902    0.8957    0.8930       163\n",
            "          34     0.9435    0.8930    0.9176       187\n",
            "          35     0.9821    0.9375    0.9593       176\n",
            "          36     0.9699    0.9817    0.9758       164\n",
            "          37     0.9343    0.9343    0.9343       198\n",
            "          38     0.9106    0.8811    0.8956       185\n",
            "          39     0.9372    0.9949    0.9652       195\n",
            "          40     0.9451    0.9281    0.9366       167\n",
            "          41     0.9330    0.9141    0.9235       198\n",
            "          42     0.9519    0.9319    0.9418       191\n",
            "          43     0.9235    0.9476    0.9354       191\n",
            "          44     0.9583    0.9306    0.9443       173\n",
            "          45     0.9427    0.9427    0.9427       192\n",
            "          46     0.8691    0.9595    0.9121       173\n",
            "          47     0.9058    0.9774    0.9402       177\n",
            "          48     0.8756    0.9026    0.8889       195\n",
            "          49     0.8147    0.9793    0.8894       193\n",
            "          50     0.9639    0.9842    0.9740       190\n",
            "          51     0.9593    0.9322    0.9456       177\n",
            "          52     0.9464    0.8325    0.8858       191\n",
            "          53     0.9778    0.9565    0.9670       184\n",
            "          54     0.9691    0.8396    0.8997       187\n",
            "          55     0.8020    0.9133    0.8541       173\n",
            "          56     0.9716    0.8593    0.9120       199\n",
            "          57     0.9759    0.9000    0.9364       180\n",
            "          58     0.9545    0.9742    0.9643       194\n",
            "          59     0.8836    0.8608    0.8721       194\n",
            "          60     0.8969    0.9305    0.9134       187\n",
            "          61     0.8824    0.9420    0.9112       207\n",
            "          62     0.9251    0.9351    0.9301       185\n",
            "          63     0.9822    0.9326    0.9568       178\n",
            "          64     0.7624    0.9625    0.8508       160\n",
            "          65     0.9740    0.8982    0.9346       167\n",
            "          66     0.9805    0.9437    0.9618       160\n",
            "          67     0.9540    0.8973    0.9248       185\n",
            "          68     0.9585    0.9686    0.9635       191\n",
            "          69     0.9879    0.9209    0.9532       177\n",
            "          70     0.9663    0.9503    0.9582       181\n",
            "          71     0.9755    0.8548    0.9112       186\n",
            "          72     0.9531    0.9337    0.9433       196\n",
            "          73     0.9452    0.9495    0.9474       218\n",
            "          74     0.9375    0.9375    0.9375       176\n",
            "          75     0.9583    0.9699    0.9641       166\n",
            "          76     0.9468    0.9036    0.9247       197\n",
            "          77     0.8786    0.8941    0.8863       170\n",
            "\n",
            "    accuracy                         0.9271     14012\n",
            "   macro avg     0.9290    0.9271    0.9269     14012\n",
            "weighted avg     0.9295    0.9271    0.9271     14012\n",
            "\n",
            "\n",
            "Per-Class Correct & Misclassified Samples:\n",
            "Class 0: Correct = 168, Misclassified = 9\n",
            "Class 1: Correct = 180, Misclassified = 8\n",
            "Class 2: Correct = 158, Misclassified = 11\n",
            "Class 3: Correct = 155, Misclassified = 19\n",
            "Class 4: Correct = 166, Misclassified = 7\n",
            "Class 5: Correct = 141, Misclassified = 6\n",
            "Class 6: Correct = 143, Misclassified = 7\n",
            "Class 7: Correct = 148, Misclassified = 12\n",
            "Class 8: Correct = 164, Misclassified = 8\n",
            "Class 9: Correct = 161, Misclassified = 17\n",
            "Class 10: Correct = 152, Misclassified = 6\n",
            "Class 11: Correct = 183, Misclassified = 3\n",
            "Class 12: Correct = 175, Misclassified = 8\n",
            "Class 13: Correct = 164, Misclassified = 3\n",
            "Class 14: Correct = 157, Misclassified = 1\n",
            "Class 15: Correct = 158, Misclassified = 25\n",
            "Class 16: Correct = 160, Misclassified = 21\n",
            "Class 17: Correct = 171, Misclassified = 14\n",
            "Class 18: Correct = 171, Misclassified = 14\n",
            "Class 19: Correct = 181, Misclassified = 4\n",
            "Class 20: Correct = 156, Misclassified = 10\n",
            "Class 21: Correct = 161, Misclassified = 21\n",
            "Class 22: Correct = 194, Misclassified = 3\n",
            "Class 23: Correct = 165, Misclassified = 7\n",
            "Class 24: Correct = 160, Misclassified = 14\n",
            "Class 25: Correct = 183, Misclassified = 5\n",
            "Class 26: Correct = 166, Misclassified = 11\n",
            "Class 27: Correct = 105, Misclassified = 63\n",
            "Class 28: Correct = 147, Misclassified = 25\n",
            "Class 29: Correct = 164, Misclassified = 13\n",
            "Class 30: Correct = 165, Misclassified = 9\n",
            "Class 31: Correct = 164, Misclassified = 8\n",
            "Class 32: Correct = 137, Misclassified = 23\n",
            "Class 33: Correct = 146, Misclassified = 17\n",
            "Class 34: Correct = 167, Misclassified = 20\n",
            "Class 35: Correct = 165, Misclassified = 11\n",
            "Class 36: Correct = 161, Misclassified = 3\n",
            "Class 37: Correct = 185, Misclassified = 13\n",
            "Class 38: Correct = 163, Misclassified = 22\n",
            "Class 39: Correct = 194, Misclassified = 1\n",
            "Class 40: Correct = 155, Misclassified = 12\n",
            "Class 41: Correct = 181, Misclassified = 17\n",
            "Class 42: Correct = 178, Misclassified = 13\n",
            "Class 43: Correct = 181, Misclassified = 10\n",
            "Class 44: Correct = 161, Misclassified = 12\n",
            "Class 45: Correct = 181, Misclassified = 11\n",
            "Class 46: Correct = 166, Misclassified = 7\n",
            "Class 47: Correct = 173, Misclassified = 4\n",
            "Class 48: Correct = 176, Misclassified = 19\n",
            "Class 49: Correct = 189, Misclassified = 4\n",
            "Class 50: Correct = 187, Misclassified = 3\n",
            "Class 51: Correct = 165, Misclassified = 12\n",
            "Class 52: Correct = 159, Misclassified = 32\n",
            "Class 53: Correct = 176, Misclassified = 8\n",
            "Class 54: Correct = 157, Misclassified = 30\n",
            "Class 55: Correct = 158, Misclassified = 15\n",
            "Class 56: Correct = 171, Misclassified = 28\n",
            "Class 57: Correct = 162, Misclassified = 18\n",
            "Class 58: Correct = 189, Misclassified = 5\n",
            "Class 59: Correct = 167, Misclassified = 27\n",
            "Class 60: Correct = 174, Misclassified = 13\n",
            "Class 61: Correct = 195, Misclassified = 12\n",
            "Class 62: Correct = 173, Misclassified = 12\n",
            "Class 63: Correct = 166, Misclassified = 12\n",
            "Class 64: Correct = 154, Misclassified = 6\n",
            "Class 65: Correct = 150, Misclassified = 17\n",
            "Class 66: Correct = 151, Misclassified = 9\n",
            "Class 67: Correct = 166, Misclassified = 19\n",
            "Class 68: Correct = 185, Misclassified = 6\n",
            "Class 69: Correct = 163, Misclassified = 14\n",
            "Class 70: Correct = 172, Misclassified = 9\n",
            "Class 71: Correct = 159, Misclassified = 27\n",
            "Class 72: Correct = 183, Misclassified = 13\n",
            "Class 73: Correct = 207, Misclassified = 11\n",
            "Class 74: Correct = 165, Misclassified = 11\n",
            "Class 75: Correct = 161, Misclassified = 5\n",
            "Class 76: Correct = 178, Misclassified = 19\n",
            "Class 77: Correct = 152, Misclassified = 18\n"
          ]
        }
      ]
    },
    {
      "cell_type": "code",
      "source": [
        "# Count misclassified samples per class\n",
        "correctly_classified = np.diag(conf_matrix)  # Diagonal = correctly classified\n",
        "total_samples_per_class = np.sum(conf_matrix, axis=1)  # Total samples per class\n",
        "misclassified = total_samples_per_class - correctly_classified  # Misclassified count\n",
        "\n",
        "# Get indices of 5 most misclassified classes\n",
        "most_misclassified_indices = np.argsort(misclassified)[-5:][::-1]  # Sort in descending order\n",
        "\n",
        "# Print the 5 most misclassified classes\n",
        "print(\"Top 5 Most Misclassified Letters:\")\n",
        "for i, class_idx in enumerate(most_misclassified_indices):\n",
        "    print(f\"{i+1}. Class {class_idx} - Misclassified: {misclassified[class_idx]} times\")\n",
        "\n",
        "\n",
        "print(\"\\nMost Misclassified Letters with Labels:\")\n",
        "for class_idx in most_misclassified_indices:\n",
        "    print(f\"Letter '{label_dict1[class_idx]}' - Misclassified: {misclassified[class_idx]} times\")"
      ],
      "metadata": {
        "colab": {
          "base_uri": "https://localhost:8080/"
        },
        "id": "aT4CgnixBwN5",
        "outputId": "22e61119-488a-4f2f-931c-3678f9edc59f"
      },
      "execution_count": null,
      "outputs": [
        {
          "output_type": "stream",
          "name": "stdout",
          "text": [
            "Top 5 Most Misclassified Letters:\n",
            "1. Class 27 - Misclassified: 63 times\n",
            "2. Class 52 - Misclassified: 32 times\n",
            "3. Class 54 - Misclassified: 30 times\n",
            "4. Class 56 - Misclassified: 28 times\n",
            "5. Class 71 - Misclassified: 27 times\n",
            "\n",
            "Most Misclassified Letters with Labels:\n",
            "Letter 'Ռ' - Misclassified: 63 times\n",
            "Letter 'ծ' - Misclassified: 32 times\n",
            "Letter 'հ' - Misclassified: 30 times\n",
            "Letter 'ղ' - Misclassified: 28 times\n",
            "Letter 'ց' - Misclassified: 27 times\n"
          ]
        }
      ]
    }
  ]
}